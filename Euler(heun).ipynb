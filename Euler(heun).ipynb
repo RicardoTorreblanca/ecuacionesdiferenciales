{
 "cells": [
  {
   "cell_type": "code",
   "execution_count": 4,
   "metadata": {},
   "outputs": [
    {
     "data": {
      "image/png": "[encoded data removed]",
      "text/plain": [
       "<matplotlib.figure.Figure at 0x289af5bef60>"
      ]
     },
     "metadata": {},
     "output_type": "display_data"
    }
   ],
   "source": [
    "#codigo de euler mejorado\n",
    "import numpy as np\n",
    "import pylab as pl\n",
    "import math as math\n",
    "def heun(f,x,y,h,m):\n",
    "    u=np.zeros([m,2],dtype=float)\n",
    "    for i in range(m):\n",
    "        yn=y+h*f(x,y)\n",
    "        y=y+h/2*(f(x,y)+f(x+h,yn))\n",
    "        x=x+h\n",
    "        u[i,0]=x\n",
    "        u[i,1]=y\n",
    "    return u\n",
    "def y(x): return np.exp(x)+x**2+x\n",
    "def f(x,y):return y-x**2+x+1\n",
    "u=heun(f,0,1,0.1,20)\n",
    "pl.plot(u[:,0],u[:,1],'ro')\n",
    "x=pl.arange(0,2.1,0.1)\n",
    "pl.plot(x,y(x),'ob')\n",
    "pl.grid(True)\n",
    "pl.show()"
   ]
  },
  {
   "cell_type": "code",
   "execution_count": 5,
   "metadata": {},
   "outputs": [
    {
     "data": {
      "image/png": "[encoded data removed]",
      "text/plain": [
       "<matplotlib.figure.Figure at 0x289af78b710>"
      ]
     },
     "metadata": {},
     "output_type": "display_data"
    }
   ],
   "source": [
    "#Rungen kutta segundo orden\n",
    "import numpy as np\n",
    "import pylab as pl\n",
    "import math as math\n",
    "def rk2 (f,x,y,h,m):\n",
    "    u=np.zeros([m,2],float)\n",
    "    for i in range(m):\n",
    "        k1=h*f(x,y)\n",
    "        k2=h*f(x+h,y+k1)\n",
    "        y=y+0.5*(k1+k2)\n",
    "        x=x+h\n",
    "        u[i,0]=x\n",
    "        u[i,1]=y\n",
    "    return u\n",
    "def y(x): return np.exp(x)+x**2+x\n",
    "def f(x,y):return y-x**2+x+1\n",
    "u=rk2(f,0,1,0.1,20)\n",
    "pl.plot(u[:,0],u[:,1],'ro')\n",
    "x=pl.arange(0,2.1,0.1)\n",
    "pl.plot(x,y(x),'ob')\n",
    "pl.grid(True)\n",
    "pl.show()"
   ]
  },
  {
   "cell_type": "code",
   "execution_count": 6,
   "metadata": {},
   "outputs": [
    {
     "data": {
      "image/png": "[encoded data removed]",
      "text/plain": [
       "<matplotlib.figure.Figure at 0x289af78b6d8>"
      ]
     },
     "metadata": {},
     "output_type": "display_data"
    }
   ],
   "source": [
    "#rungen kutta cuarto orden\n",
    "import numpy as np\n",
    "import pylab as pl\n",
    "import math as math\n",
    "def rk4 (f,x,y,h,m):\n",
    "    u=np.zeros([m,2],float)\n",
    "    for i in range(m):\n",
    "        k1=h*f(x,y)\n",
    "        k2=h*f(x+h/2,y+k1/2)\n",
    "        k3=h*f(x+h/2,y+k2/2)\n",
    "        k4=h*f(x+h,y+k3)\n",
    "        y=y+1/6*(k1+2*k2+2*k3+k4)\n",
    "        x=x+h\n",
    "        u[i,0]=x\n",
    "        u[i,1]=y\n",
    "    return u\n",
    "def y(x): return np.exp(x)+x**2+x\n",
    "def f(x,y):return y-x**2+x+1\n",
    "u=rk4(f,0,1,0.1,20)\n",
    "pl.plot(u[:,0],u[:,1],'ro')\n",
    "x=pl.arange(0,2.1,0.1)\n",
    "pl.plot(x,y(x),'ob')\n",
    "pl.grid(True)\n",
    "pl.show()"
   ]
  },
  {
   "cell_type": "code",
   "execution_count": null,
   "metadata": {
    "collapsed": true
   },
   "outputs": [],
   "source": []
  }
 ],
 "metadata": {
  "kernelspec": {
   "display_name": "Python 3",
   "language": "python",
   "name": "python3"
  },
  "language_info": {
   "codemirror_mode": {
    "name": "ipython",
    "version": 3
   },
   "file_extension": ".py",
   "mimetype": "text/x-python",
   "name": "python",
   "nbconvert_exporter": "python",
   "pygments_lexer": "ipython3",
   "version": "3.6.3"
  }
 },
 "nbformat": 4,
 "nbformat_minor": 2
}
